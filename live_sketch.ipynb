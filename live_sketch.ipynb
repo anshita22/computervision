{
 "cells": [
  {
   "cell_type": "code",
   "execution_count": 4,
   "metadata": {},
   "outputs": [],
   "source": [
    "import cv2\n",
    "\n",
    "cap = cv2.VideoCapture(0)\n",
    "\n",
    "while True:\n",
    "    ret, frame = cap.read() # Reading the Frame\n",
    "    cv2.imshow('Original', frame)  \n",
    "    gray = cv2.cvtColor(frame, cv2.COLOR_BGR2GRAY)# Converting it to GrayScale\n",
    "    blur = cv2.GaussianBlur(gray , (5,5), 0)     #  Blurring\n",
    "    edge = cv2.Canny(blur, 10, 120)             #   Finding Edges\n",
    "    ret, thresh = cv2.threshold(edge, 170, 255, cv2.THRESH_BINARY_INV)  # Thresholding\n",
    "    cv2.imshow('thresh',thresh)\n",
    "\n",
    "    if cv2.waitKey(33) == 27:\n",
    "        break;\n",
    "cap.release()\n",
    "cv2.destroyAllWindows()"
   ]
  },
  {
   "cell_type": "code",
   "execution_count": null,
   "metadata": {},
   "outputs": [],
   "source": []
  }
 ],
 "metadata": {
  "kernelspec": {
   "display_name": "Python 3",
   "language": "python",
   "name": "python3"
  },
  "language_info": {
   "codemirror_mode": {
    "name": "ipython",
    "version": 3
   },
   "file_extension": ".py",
   "mimetype": "text/x-python",
   "name": "python",
   "nbconvert_exporter": "python",
   "pygments_lexer": "ipython3",
   "version": "3.7.6"
  }
 },
 "nbformat": 4,
 "nbformat_minor": 4
}
